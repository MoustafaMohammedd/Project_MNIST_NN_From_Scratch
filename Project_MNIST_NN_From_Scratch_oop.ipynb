{
  "cells": [
    {
      "cell_type": "code",
      "execution_count": null,
      "id": "7373ba7e-5fe7-49c3-9429-03045684507d",
      "metadata": {
        "id": "7373ba7e-5fe7-49c3-9429-03045684507d"
      },
      "outputs": [],
      "source": [
        "import numpy as np\n",
        "import pandas as pd\n",
        "import matplotlib.pyplot as plt\n",
        "\n",
        "from sklearn.preprocessing import OneHotEncoder\n",
        "from sklearn.model_selection import train_test_split\n"
      ]
    },
    {
      "cell_type": "code",
      "execution_count": null,
      "id": "cafe5783-9108-41b3-98f5-9652fa84ee35",
      "metadata": {
        "id": "cafe5783-9108-41b3-98f5-9652fa84ee35"
      },
      "outputs": [],
      "source": [
        "class OurNNForMNIST:\n",
        "\n",
        "    def __init__(self, x_train, y_train, x_test, y_test, batch_size=32, lr=1e-2, check_v=0.00001, max_epoch=20,input_dim=784,h1=20,h2=15,output_dim=10):\n",
        "\n",
        "        self.x_train = x_train\n",
        "        self.y_train = y_train\n",
        "        self.x_test = x_test\n",
        "        self.y_test = y_test\n",
        "        self.batch_size = batch_size\n",
        "        self.lr = lr\n",
        "        self.check_v = check_v\n",
        "        self.max_epoch = max_epoch\n",
        "        self.input_dim=input_dim\n",
        "        self.h1=h1\n",
        "        self.h2=h2\n",
        "        self.output_dim=output_dim\n",
        "        self.train_loss_l = []\n",
        "        self.test_loss_l = []\n",
        "\n",
        "    def our_tanh(self, x):\n",
        "\n",
        "        upper = np.exp(x) - np.exp(-x)\n",
        "\n",
        "        lower = np.exp(x) + np.exp(-x)\n",
        "\n",
        "        return upper / lower\n",
        "\n",
        "    def our_dtanh(self, x):\n",
        "\n",
        "        return 1 - x**2\n",
        "\n",
        "    def our_soft_max(self, x):\n",
        "\n",
        "        x = x - np.max(x, axis=1, keepdims=True)\n",
        "\n",
        "        upper = np.exp(x)\n",
        "\n",
        "        lower = np.sum(upper, axis=1, keepdims=True)\n",
        "\n",
        "        return upper / lower\n",
        "\n",
        "    def our_cross_entropy(self, t, p):\n",
        "\n",
        "        return np.mean(-np.sum(t * np.log(p + 0.00000005), axis=1, keepdims=True))\n",
        "\n",
        "    def our_initial(self):\n",
        "\n",
        "        w1 = np.random.randn(self.input_dim, self.h1)\n",
        "        b1 = np.zeros((1, self.h1))\n",
        "\n",
        "        w2 = np.random.randn(self.h1, self.h2)\n",
        "        b2 = np.zeros((1, self.h2))\n",
        "\n",
        "        w3 = np.random.randn(self.h2, self.output_dim)\n",
        "        b3 = np.zeros((1, self.output_dim))\n",
        "\n",
        "        return w1, b1, w2, b2, w3, b3\n",
        "\n",
        "    def our_forward(self, x, w1, b1, w2, b2, w3, b3):\n",
        "\n",
        "        n1 = x @ w1 + b1\n",
        "        o1 = self.our_tanh(n1)\n",
        "\n",
        "        n2 = o1 @ w2 + b2\n",
        "        o2 = self.our_tanh(n2)\n",
        "\n",
        "        n3 = o2 @ w3 + b3\n",
        "        o3 = self.our_soft_max(n3)\n",
        "\n",
        "        return n1, o1, n2, o2, n3, o3\n",
        "\n",
        "    def our_backprob(self, x, y, w1, b1, w2, b2, w3, b3, n1, o1, n2, o2, n3, o3):\n",
        "\n",
        "        de_dn3 = o3 - y\n",
        "\n",
        "        de_do2 = de_dn3 @ w3.T\n",
        "\n",
        "        de_dn2 = de_do2 * self.our_dtanh(o2)\n",
        "\n",
        "        de_do1 = de_dn2 @ w2.T\n",
        "\n",
        "        de_dn1 = de_do1 * self.our_dtanh(o1)\n",
        "\n",
        "\n",
        "        de_dw3 = o2.T @ de_dn3\n",
        "\n",
        "        de_db3 = np.sum(de_dn3, axis=0, keepdims=True)\n",
        "\n",
        "        de_dw2 = o1.T @ de_dn2\n",
        "\n",
        "        de_db2 = np.sum(de_dn2, axis=0, keepdims=True)\n",
        "\n",
        "        de_dw1 = x.T @ de_dn1\n",
        "\n",
        "        de_db1 = np.sum(de_dn1, axis=0, keepdims=True)\n",
        "\n",
        "        return de_dw1, de_db1, de_dw2, de_db2, de_dw3, de_db3\n",
        "\n",
        "    def our_update_weights(self, w1, b1, w2, b2, w3, b3, de_dw1, de_db1, de_dw2, de_db2, de_dw3, de_db3):\n",
        "\n",
        "        w1 -= self.lr * de_dw1\n",
        "\n",
        "        b1 -= self.lr * de_db1\n",
        "\n",
        "        w2 -= self.lr * de_dw2\n",
        "\n",
        "        b2 -= self.lr * de_db2\n",
        "\n",
        "        w3 -= self.lr * de_dw3\n",
        "\n",
        "        b3 -= self.lr * de_db3\n",
        "\n",
        "        return w1, b1, w2, b2, w3, b3\n",
        "\n",
        "    def our_accuracy(self, t, p):\n",
        "\n",
        "        predicted_y = np.argmax(p, axis=1)\n",
        "\n",
        "        true_t = np.argmax(t, axis=1)\n",
        "\n",
        "        true_v = np.sum(true_t == predicted_y)\n",
        "\n",
        "        total_v = predicted_y.shape[0]\n",
        "\n",
        "        accuracy_v = true_v / total_v\n",
        "\n",
        "        return accuracy_v\n",
        "\n",
        "    def our_evaluation(self, x_eval, y_eval, w1, b1, w2, b2, w3, b3):\n",
        "\n",
        "        n1, o1, n2, o2, n3, o3 = self.our_forward(x_eval, w1, b1, w2, b2, w3, b3)\n",
        "\n",
        "        loss_v = self.our_cross_entropy(y_eval, o3)\n",
        "\n",
        "        accuracy_v = self.our_accuracy(y_eval, o3)\n",
        "\n",
        "        return loss_v, accuracy_v\n",
        "\n",
        "    def our_batch_gradient_decent(self):\n",
        "\n",
        "        np.random.seed(0)\n",
        "\n",
        "        w1, b1, w2, b2, w3, b3 = self.our_initial()\n",
        "\n",
        "        n_batches = len(self.x_train) // self.batch_size\n",
        "\n",
        "\n",
        "        for epoch in range(self.max_epoch):\n",
        "\n",
        "            for batch in range(n_batches):\n",
        "\n",
        "                start = batch * self.batch_size\n",
        "\n",
        "                end = (batch + 1) * self.batch_size\n",
        "\n",
        "                if batch + 1 != n_batches:\n",
        "                    x_batch = self.x_train[start:end]\n",
        "                    y_batch = self.y_train[start:end]\n",
        "                else:\n",
        "                    x_batch = self.x_train[start:]\n",
        "                    y_batch = self.y_train[start:]\n",
        "\n",
        "                n1, o1, n2, o2, n3, o3 = self.our_forward(x_batch, w1, b1, w2, b2, w3, b3)\n",
        "\n",
        "                de_dw1, de_db1, de_dw2, de_db2, de_dw3, de_db3 = self.our_backprob(x_batch, y_batch, w1, b1, w2, b2, w3, b3, n1, o1, n2, o2, n3, o3)\n",
        "\n",
        "                w1, b1, w2, b2, w3, b3 = self.our_update_weights(w1, b1, w2, b2, w3, b3, de_dw1, de_db1, de_dw2, de_db2, de_dw3, de_db3)\n",
        "\n",
        "            train_loss, train_accuracy = self.our_evaluation(self.x_train, self.y_train, w1, b1, w2, b2, w3, b3)\n",
        "\n",
        "            self.train_loss_l.append(train_loss)\n",
        "\n",
        "            test_loss, test_accuracy = self.our_evaluation(self.x_test, self.y_test, w1, b1, w2, b2, w3, b3)\n",
        "\n",
        "            self.test_loss_l.append(test_loss)\n",
        "\n",
        "            print(f\"at epoch = {epoch}, train loss = {train_loss}, test loss = {test_loss}, train accuracy = {train_accuracy}, test accuracy = {test_accuracy}\")\n",
        "\n",
        "        return w1, b1, w2, b2, w3, b3, self.train_loss_l, self.test_loss_l"
      ]
    },
    {
      "cell_type": "code",
      "source": [
        "def our_prep_data(x_dir,y_dir):\n",
        "\n",
        "    x=np.load(x_dir)\n",
        "    y=np.load(y_dir)\n",
        "\n",
        "    x=x / 255.0\n",
        "\n",
        "    ohe=OneHotEncoder(sparse=False)\n",
        "\n",
        "    y_ohe=ohe.fit_transform(y.reshape(-1,1))\n",
        "\n",
        "    x_train,x_test,y_train,y_test=train_test_split(x,y_ohe,test_size=0.2,random_state=42)\n",
        "\n",
        "    return x_train,x_test,y_train,y_test"
      ],
      "metadata": {
        "id": "zQGe43fGU2ud"
      },
      "id": "zQGe43fGU2ud",
      "execution_count": null,
      "outputs": []
    },
    {
      "cell_type": "code",
      "source": [
        "x_train,x_test,y_train,y_test = our_prep_data(x_dir=\"D:\\Courses\\ML Dr Mostafa\\Projects_last\\mnist-sample\\X.npy\",y_dir=\"D:\\Courses\\ML Dr Mostafa\\Projects_last\\mnist-sample\\y.npy\")\n"
      ],
      "metadata": {
        "id": "G1DzpFnZU76x"
      },
      "id": "G1DzpFnZU76x",
      "execution_count": null,
      "outputs": []
    },
    {
      "cell_type": "code",
      "execution_count": null,
      "id": "b8761d38-9a3f-4ab1-9ac8-53634a57709a",
      "metadata": {
        "id": "b8761d38-9a3f-4ab1-9ac8-53634a57709a"
      },
      "outputs": [],
      "source": [
        "our_nn=OurNNForMNIST(x_train,y_train,x_test,y_test,batch_size=32,lr=1e-2,check_v=0.00001,max_epoch=20)\n"
      ]
    },
    {
      "cell_type": "code",
      "execution_count": null,
      "id": "b6ca9ffb-d723-4f84-85e0-60782271b7f5",
      "metadata": {
        "id": "b6ca9ffb-d723-4f84-85e0-60782271b7f5",
        "outputId": "79e62517-5540-41b8-a752-e1aea87da916"
      },
      "outputs": [
        {
          "name": "stdout",
          "output_type": "stream",
          "text": [
            "at epoch = 0, train loss = 1.1729549304540772, test loss = 1.2462710733103208, train accuracy = 0.60775, test accuracy = 0.59\n",
            "at epoch = 1, train loss = 0.9418656380957551, test loss = 1.0338613355877178, train accuracy = 0.6795, test accuracy = 0.657\n",
            "at epoch = 2, train loss = 0.806989864372359, test loss = 0.9246826336333278, train accuracy = 0.723, test accuracy = 0.69\n",
            "at epoch = 3, train loss = 0.7100278933238425, test loss = 0.8537747543619707, train accuracy = 0.757, test accuracy = 0.722\n",
            "at epoch = 4, train loss = 0.6625282621525244, test loss = 0.8094155453933927, train accuracy = 0.77775, test accuracy = 0.735\n",
            "at epoch = 5, train loss = 0.6397289909551244, test loss = 0.8031842482022467, train accuracy = 0.78275, test accuracy = 0.737\n",
            "at epoch = 6, train loss = 0.6241909960442251, test loss = 0.8125768376602528, train accuracy = 0.7845, test accuracy = 0.738\n",
            "at epoch = 7, train loss = 0.5289064436224689, test loss = 0.712568091433487, train accuracy = 0.81825, test accuracy = 0.768\n",
            "at epoch = 8, train loss = 0.49478161505267804, test loss = 0.7079852121534433, train accuracy = 0.828, test accuracy = 0.781\n",
            "at epoch = 9, train loss = 0.46429957780873893, test loss = 0.6923969580849223, train accuracy = 0.84, test accuracy = 0.786\n",
            "at epoch = 10, train loss = 0.44283847757026074, test loss = 0.6838281946226318, train accuracy = 0.851, test accuracy = 0.795\n",
            "at epoch = 11, train loss = 0.4102470400512436, test loss = 0.67219340865964, train accuracy = 0.86225, test accuracy = 0.799\n",
            "at epoch = 12, train loss = 0.3868153584948009, test loss = 0.6742702721580595, train accuracy = 0.86975, test accuracy = 0.8\n",
            "at epoch = 13, train loss = 0.37547330079123786, test loss = 0.6724994725355002, train accuracy = 0.8765, test accuracy = 0.808\n",
            "at epoch = 14, train loss = 0.3589043581898687, test loss = 0.672709709285766, train accuracy = 0.88325, test accuracy = 0.805\n",
            "at epoch = 15, train loss = 0.3398869893781955, test loss = 0.6656158337219893, train accuracy = 0.88975, test accuracy = 0.812\n",
            "at epoch = 16, train loss = 0.3253287134494632, test loss = 0.6746458357482427, train accuracy = 0.89575, test accuracy = 0.812\n",
            "at epoch = 17, train loss = 0.3093080433209363, test loss = 0.6679889814235566, train accuracy = 0.90125, test accuracy = 0.82\n",
            "at epoch = 18, train loss = 0.3054526494003484, test loss = 0.648974461798014, train accuracy = 0.90075, test accuracy = 0.815\n",
            "at epoch = 19, train loss = 0.2917525597634816, test loss = 0.6649583663439548, train accuracy = 0.9085, test accuracy = 0.821\n"
          ]
        }
      ],
      "source": [
        "w1,b1,w2,b2,w3,b3,train_loss_l,test_loss_l=our_nn.our_batch_gradient_decent()"
      ]
    },
    {
      "cell_type": "code",
      "execution_count": null,
      "id": "46396162-e0c2-4a6f-8dc3-bf93e4cb6ac0",
      "metadata": {
        "id": "46396162-e0c2-4a6f-8dc3-bf93e4cb6ac0",
        "outputId": "561d6d9b-96ea-444b-a7c3-f01cc061fb09"
      },
      "outputs": [
        {
          "data": {
            "image/png": "[encoded data removed]",
            "text/plain": [
              "<Figure size 640x480 with 1 Axes>"
            ]
          },
          "metadata": {},
          "output_type": "display_data"
        }
      ],
      "source": [
        "def our_plot_loss(train_loss_l,test_loss_l):\n",
        "    plt.plot(train_loss_l,label=\"train\")\n",
        "    plt.plot(test_loss_l,label=\"test\")\n",
        "    plt.legend()\n",
        "    plt.title(\"train and test loss\")\n",
        "    plt.show()\n",
        "\n",
        "our_plot_loss(train_loss_l,test_loss_l)"
      ]
    },
    {
      "cell_type": "code",
      "execution_count": null,
      "id": "9535cb23-1158-4391-b662-e3e736c0141d",
      "metadata": {
        "id": "9535cb23-1158-4391-b662-e3e736c0141d",
        "outputId": "2513d31c-119e-4319-b05a-edd93d69822b"
      },
      "outputs": [
        {
          "data": {
            "image/png": "[encoded data removed]",
            "text/plain": [
              "<Figure size 1500x600 with 10 Axes>"
            ]
          },
          "metadata": {},
          "output_type": "display_data"
        }
      ],
      "source": [
        "def our_plot(x, y, w1, b1, w2, b2, w3, b3):\n",
        "    num_images = 10\n",
        "    rows = int(np.ceil(num_images / 5))\n",
        "    cols = 5\n",
        "\n",
        "    fig, axes = plt.subplots(rows, cols, figsize=(15, 3 * rows))\n",
        "    axes = axes.flatten()\n",
        "\n",
        "    for i in range(num_images):\n",
        "        n1, o1, n2, o2, n3, o3 = our_nn.our_forward(x[i], w1, b1, w2, b2, w3, b3)\n",
        "        t = np.argmax(y[i])\n",
        "        p = np.argmax(o3)\n",
        "\n",
        "        axes[i].imshow(x[i].reshape(28, 28), cmap='gray')\n",
        "        axes[i].set_title(f\"GT={t}, Pred={p}\")\n",
        "        axes[i].axis('off')\n",
        "\n",
        "    plt.tight_layout()\n",
        "    plt.show()\n",
        "\n",
        "our_plot(x_test, y_test, w1, b1, w2, b2, w3, b3)"
      ]
    },
    {
      "cell_type": "code",
      "execution_count": null,
      "id": "c0aeab1d-bdb8-40ab-8fce-0f946d575230",
      "metadata": {
        "id": "c0aeab1d-bdb8-40ab-8fce-0f946d575230"
      },
      "outputs": [],
      "source": []
    }
  ],
  "metadata": {
    "kernelspec": {
      "display_name": "Python 3 (ipykernel)",
      "language": "python",
      "name": "python3"
    },
    "language_info": {
      "codemirror_mode": {
        "name": "ipython",
        "version": 3
      },
      "file_extension": ".py",
      "mimetype": "text/x-python",
      "name": "python",
      "nbconvert_exporter": "python",
      "pygments_lexer": "ipython3",
      "version": "3.11.5"
    },
    "colab": {
      "provenance": []
    }
  },
  "nbformat": 4,
  "nbformat_minor": 5
}