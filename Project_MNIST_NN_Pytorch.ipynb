{
  "nbformat": 4,
  "nbformat_minor": 0,
  "metadata": {
    "colab": {
      "provenance": [],
      "gpuType": "T4"
    },
    "kernelspec": {
      "name": "python3",
      "display_name": "Python 3"
    },
    "language_info": {
      "name": "python"
    },
    "accelerator": "GPU"
  },
  "cells": [
    {
      "cell_type": "code",
      "execution_count": 94,
      "metadata": {
        "id": "ht7Sw8m8xyyR"
      },
      "outputs": [],
      "source": [
        "import numpy as np\n",
        "import pandas as pd\n",
        "import matplotlib.pyplot as plt\n",
        "import torch\n",
        "from torch import nn\n",
        "from torch import optim\n",
        "from torch.utils.data import DataLoader,Dataset\n",
        "from sklearn.preprocessing import OneHotEncoder\n",
        "from sklearn.model_selection import train_test_split"
      ]
    },
    {
      "cell_type": "code",
      "source": [
        "def prep_data(x_dir,y_dir):\n",
        "  x=np.load(x_dir)\n",
        "  y=np.load(y_dir)\n",
        "\n",
        "  x_train,x_test,y_train,y_test=train_test_split(x,y,test_size=.2,shuffle=True,random_state=42)\n",
        "\n",
        "  return x_train,x_test,y_train,y_test"
      ],
      "metadata": {
        "id": "3_cjn9wmyf3i"
      },
      "execution_count": 95,
      "outputs": []
    },
    {
      "cell_type": "code",
      "source": [
        "x_train,x_test,y_train,y_test=prep_data(\"/content/drive/MyDrive/NYK/X.npy\",\"/content/drive/MyDrive/NYK/y.npy\")"
      ],
      "metadata": {
        "id": "2XVaqpLbzk1J"
      },
      "execution_count": 96,
      "outputs": []
    },
    {
      "cell_type": "code",
      "source": [
        "x_train.shape,x_test.shape,y_train.shape,y_test.shape"
      ],
      "metadata": {
        "colab": {
          "base_uri": "https://localhost:8080/"
        },
        "id": "xQve7lTM0awL",
        "outputId": "0fc67b2f-be1a-46ff-9f9d-aa31b8d85a19"
      },
      "execution_count": 97,
      "outputs": [
        {
          "output_type": "execute_result",
          "data": {
            "text/plain": [
              "((4000, 784), (1000, 784), (4000,), (1000,))"
            ]
          },
          "metadata": {},
          "execution_count": 97
        }
      ]
    },
    {
      "cell_type": "code",
      "source": [
        "class OurTrainData(Dataset):\n",
        "\n",
        "  def __init__(self,x,y):\n",
        "    super(OurTrainData,self).__init__()\n",
        "    self.x=torch.tensor(x)\n",
        "    self.y_t=torch.tensor(y)\n",
        "    self.ohe=OneHotEncoder(sparse_output=False)\n",
        "    #self.y=self.ohe.fit_transform(self.y_t.reshape(-1,1))\n",
        "\n",
        "  def __len__(self):\n",
        "    return self.x.shape[0]\n",
        "\n",
        "  def __getitem__(self, index) :\n",
        "    x_sample=self.x[index].reshape(1,-1) / 255.0\n",
        "    y_sample=self.y_t[index].reshape(1,-1)\n",
        "\n",
        "\n",
        "    return x_sample,y_sample\n",
        "\n",
        "  def get_ohe (self):\n",
        "    return self.ohe"
      ],
      "metadata": {
        "id": "BYBoUeHo0k4E"
      },
      "execution_count": 98,
      "outputs": []
    },
    {
      "cell_type": "code",
      "source": [
        "our_train_data=OurTrainData(x_train,y_train)"
      ],
      "metadata": {
        "id": "TUIvXvtT3K9l"
      },
      "execution_count": 99,
      "outputs": []
    },
    {
      "cell_type": "code",
      "source": [
        "our_train_loader=DataLoader(our_train_data,shuffle=True,batch_size=32)"
      ],
      "metadata": {
        "id": "Qr-hRAN_3LAs"
      },
      "execution_count": 100,
      "outputs": []
    },
    {
      "cell_type": "code",
      "source": [
        "\n",
        "for x_b,y_b  in our_train_loader:\n",
        "  #print(x_b.shape)\n",
        "  print(y_b)\n",
        "\n",
        "  break"
      ],
      "metadata": {
        "colab": {
          "base_uri": "https://localhost:8080/"
        },
        "id": "YxzU-Cyu5L9m",
        "outputId": "9a195d30-2750-43fb-b58c-1c83e4933f83"
      },
      "execution_count": 43,
      "outputs": [
        {
          "output_type": "stream",
          "name": "stdout",
          "text": [
            "tensor([[[8]],\n",
            "\n",
            "        [[9]],\n",
            "\n",
            "        [[7]],\n",
            "\n",
            "        [[4]],\n",
            "\n",
            "        [[5]],\n",
            "\n",
            "        [[4]],\n",
            "\n",
            "        [[6]],\n",
            "\n",
            "        [[8]],\n",
            "\n",
            "        [[9]],\n",
            "\n",
            "        [[5]],\n",
            "\n",
            "        [[7]],\n",
            "\n",
            "        [[7]],\n",
            "\n",
            "        [[0]],\n",
            "\n",
            "        [[7]],\n",
            "\n",
            "        [[7]],\n",
            "\n",
            "        [[2]],\n",
            "\n",
            "        [[4]],\n",
            "\n",
            "        [[9]],\n",
            "\n",
            "        [[4]],\n",
            "\n",
            "        [[6]],\n",
            "\n",
            "        [[2]],\n",
            "\n",
            "        [[0]],\n",
            "\n",
            "        [[1]],\n",
            "\n",
            "        [[0]],\n",
            "\n",
            "        [[3]],\n",
            "\n",
            "        [[3]],\n",
            "\n",
            "        [[6]],\n",
            "\n",
            "        [[6]],\n",
            "\n",
            "        [[5]],\n",
            "\n",
            "        [[0]],\n",
            "\n",
            "        [[8]],\n",
            "\n",
            "        [[1]]])\n"
          ]
        }
      ]
    },
    {
      "cell_type": "code",
      "source": [
        "y_train[:6]"
      ],
      "metadata": {
        "colab": {
          "base_uri": "https://localhost:8080/"
        },
        "id": "GQ_C4t1z_Wdz",
        "outputId": "a6911a83-40c4-47cc-f957-8037ca59789e"
      },
      "execution_count": 44,
      "outputs": [
        {
          "output_type": "execute_result",
          "data": {
            "text/plain": [
              "array([7, 4, 9, 7, 8, 5])"
            ]
          },
          "metadata": {},
          "execution_count": 44
        }
      ]
    },
    {
      "cell_type": "code",
      "source": [
        "for x_b,y_b  in our_train_loader:\n",
        "  print(x_b.shape)\n",
        "  print(y_b.shape)\n",
        "\n",
        "  break"
      ],
      "metadata": {
        "colab": {
          "base_uri": "https://localhost:8080/"
        },
        "id": "YhjqZezS_kMV",
        "outputId": "785028fa-1ec2-424c-acd6-fd23fb5f4c47"
      },
      "execution_count": 45,
      "outputs": [
        {
          "output_type": "stream",
          "name": "stdout",
          "text": [
            "torch.Size([32, 1, 784])\n",
            "torch.Size([32, 1, 1])\n"
          ]
        }
      ]
    },
    {
      "cell_type": "code",
      "source": [],
      "metadata": {
        "id": "sRNdAtfE_kPd"
      },
      "execution_count": null,
      "outputs": []
    },
    {
      "cell_type": "code",
      "source": [
        "ohe_t=our_train_data.get_ohe()"
      ],
      "metadata": {
        "id": "D6Ta1FdJ5MBJ"
      },
      "execution_count": 46,
      "outputs": []
    },
    {
      "cell_type": "code",
      "source": [
        "class OurTestData(Dataset):\n",
        "\n",
        "  def __init__(self,x,y,ohe_t):\n",
        "    super(OurTestData,self).__init__()\n",
        "    self.x=torch.tensor(x)\n",
        "    self.y_t=torch.tensor(y)\n",
        "    self.ohe=ohe_t\n",
        "    #self.y=self.ohe.transform(self.y_t.reshape(-1,1))\n",
        "\n",
        "  def __len__(self):\n",
        "    return self.x.shape[0]\n",
        "\n",
        "  def __getitem__(self, index) :\n",
        "    x_sample=self.x[index].reshape(1,-1) / 255.0\n",
        "    y_sample=self.y_t[index].reshape(1,-1)\n",
        "\n",
        "\n",
        "    return x_sample,y_sample\n",
        "\n",
        ""
      ],
      "metadata": {
        "id": "Q1KzpDOg8ziJ"
      },
      "execution_count": 101,
      "outputs": []
    },
    {
      "cell_type": "code",
      "source": [
        "our_test_data=OurTestData(x_test,y_test,our_train_data.get_ohe())"
      ],
      "metadata": {
        "id": "5No5NwzkAJhW"
      },
      "execution_count": 102,
      "outputs": []
    },
    {
      "cell_type": "code",
      "source": [
        "our_test_loader=DataLoader(our_test_data,shuffle=False,batch_size=32)"
      ],
      "metadata": {
        "id": "EuicVO82AWrH"
      },
      "execution_count": 103,
      "outputs": []
    },
    {
      "cell_type": "code",
      "source": [
        "\n",
        "for x_b,y_b  in our_test_loader:\n",
        "  #print(x_b.shape)\n",
        "  print(y_b)\n",
        "\n",
        "  break"
      ],
      "metadata": {
        "colab": {
          "base_uri": "https://localhost:8080/"
        },
        "id": "SiTanZ_uAdVE",
        "outputId": "a9d102c6-68c8-40a4-a2d5-dbe607118df2"
      },
      "execution_count": 50,
      "outputs": [
        {
          "output_type": "stream",
          "name": "stdout",
          "text": [
            "tensor([[[5]],\n",
            "\n",
            "        [[9]],\n",
            "\n",
            "        [[3]],\n",
            "\n",
            "        [[7]],\n",
            "\n",
            "        [[6]],\n",
            "\n",
            "        [[2]],\n",
            "\n",
            "        [[2]],\n",
            "\n",
            "        [[7]],\n",
            "\n",
            "        [[5]],\n",
            "\n",
            "        [[3]],\n",
            "\n",
            "        [[5]],\n",
            "\n",
            "        [[1]],\n",
            "\n",
            "        [[9]],\n",
            "\n",
            "        [[8]],\n",
            "\n",
            "        [[7]],\n",
            "\n",
            "        [[2]],\n",
            "\n",
            "        [[6]],\n",
            "\n",
            "        [[0]],\n",
            "\n",
            "        [[2]],\n",
            "\n",
            "        [[2]],\n",
            "\n",
            "        [[4]],\n",
            "\n",
            "        [[0]],\n",
            "\n",
            "        [[2]],\n",
            "\n",
            "        [[5]],\n",
            "\n",
            "        [[1]],\n",
            "\n",
            "        [[5]],\n",
            "\n",
            "        [[9]],\n",
            "\n",
            "        [[6]],\n",
            "\n",
            "        [[7]],\n",
            "\n",
            "        [[5]],\n",
            "\n",
            "        [[4]],\n",
            "\n",
            "        [[3]]])\n"
          ]
        }
      ]
    },
    {
      "cell_type": "code",
      "source": [
        "y_test[:6]"
      ],
      "metadata": {
        "colab": {
          "base_uri": "https://localhost:8080/"
        },
        "id": "xoqKcXJgAeBt",
        "outputId": "376cc171-e36a-4324-b8f0-a37101017e5d"
      },
      "execution_count": 119,
      "outputs": [
        {
          "output_type": "execute_result",
          "data": {
            "text/plain": [
              "array([5, 9, 3, 7, 6, 2])"
            ]
          },
          "metadata": {},
          "execution_count": 119
        }
      ]
    },
    {
      "cell_type": "code",
      "source": [
        "for x_b,y_b  in our_test_loader:\n",
        "  print(x_b.shape)\n",
        "  print(y_b.shape)\n",
        "\n",
        "  break"
      ],
      "metadata": {
        "colab": {
          "base_uri": "https://localhost:8080/"
        },
        "id": "nc4QUYCHAeEI",
        "outputId": "2e7f7510-8c2c-4e60-84a2-a3f7f90e4e24"
      },
      "execution_count": 51,
      "outputs": [
        {
          "output_type": "stream",
          "name": "stdout",
          "text": [
            "torch.Size([32, 1, 784])\n",
            "torch.Size([32, 1, 1])\n"
          ]
        }
      ]
    },
    {
      "cell_type": "code",
      "source": [],
      "metadata": {
        "id": "bWmMnlKgAeGe"
      },
      "execution_count": null,
      "outputs": []
    },
    {
      "cell_type": "code",
      "source": [
        "class OurModel(nn.Module):\n",
        "\n",
        "  def __init__(self,input_dim,output_dim):\n",
        "    super(OurModel,self).__init__()\n",
        "\n",
        "    self.input_dim=input_dim\n",
        "    self.output_dim=output_dim\n",
        "    self.l1=nn.Linear(self.input_dim,20)\n",
        "    self.l2=nn.Linear(20,15)\n",
        "    self.l3=nn.Linear(15,self.output_dim)\n",
        "\n",
        "    self.tanh_act=nn.Tanh()\n",
        "\n",
        "  def forward(self,x):\n",
        "\n",
        "    x=self.l1(x)\n",
        "    x=self.tanh_act(x)\n",
        "\n",
        "    x=self.l2(x)\n",
        "    x=self.tanh_act(x)\n",
        "\n",
        "    x=self.l3(x)\n",
        "\n",
        "    return x  #x.shape"
      ],
      "metadata": {
        "id": "88vCdsS7A6uQ"
      },
      "execution_count": 104,
      "outputs": []
    },
    {
      "cell_type": "code",
      "source": [
        "our_model=OurModel(784,10)"
      ],
      "metadata": {
        "id": "Nwz3nxkfA6x0"
      },
      "execution_count": 123,
      "outputs": []
    },
    {
      "cell_type": "code",
      "source": [
        "print(our_model(torch.rand(2,1,784)))"
      ],
      "metadata": {
        "colab": {
          "base_uri": "https://localhost:8080/"
        },
        "id": "Gl0PyJzWAeKB",
        "outputId": "8b7c004f-c27f-41ab-eb46-abbe42f28ed8"
      },
      "execution_count": 124,
      "outputs": [
        {
          "output_type": "stream",
          "name": "stdout",
          "text": [
            "torch.Size([2, 1, 10])\n"
          ]
        }
      ]
    },
    {
      "cell_type": "code",
      "source": [
        "device=torch.device(\"cuda\" if torch.cuda.is_available() else \"cpu\")\n",
        "device"
      ],
      "metadata": {
        "colab": {
          "base_uri": "https://localhost:8080/"
        },
        "id": "Pjz5NYZKCooZ",
        "outputId": "63a9c2df-0204-4d8b-8d5c-3a89559b1090"
      },
      "execution_count": 105,
      "outputs": [
        {
          "output_type": "execute_result",
          "data": {
            "text/plain": [
              "device(type='cpu')"
            ]
          },
          "metadata": {},
          "execution_count": 105
        }
      ]
    },
    {
      "cell_type": "code",
      "source": [
        "our_model=OurModel(784,10).to(device)"
      ],
      "metadata": {
        "id": "6teRvKaUD3Ir"
      },
      "execution_count": 106,
      "outputs": []
    },
    {
      "cell_type": "code",
      "source": [],
      "metadata": {
        "id": "3SfdRoZCG6Tt"
      },
      "execution_count": null,
      "outputs": []
    },
    {
      "cell_type": "code",
      "source": [
        "def our_accuracy (t,p):\n",
        "\n",
        "  #t=torch.argmax(t,dim=1)\n",
        "\n",
        "  p=torch.argmax(p,dim=1)\n",
        "\n",
        "  t_v=torch.sum(t==p).item()\n",
        "\n",
        "  return t_v / len(t)"
      ],
      "metadata": {
        "id": "CLhjmjCbG6gW"
      },
      "execution_count": 107,
      "outputs": []
    },
    {
      "cell_type": "code",
      "source": [
        "#print(our_accuracy(torch.tensor([[3,5,8],[5,5,8]]),torch.tensor([[3,5,8],[5,5,8]])))"
      ],
      "metadata": {
        "colab": {
          "base_uri": "https://localhost:8080/"
        },
        "id": "meN3ZJ1hHvsK",
        "outputId": "efb19167-e6b2-448e-c68a-29c920c72ada"
      },
      "execution_count": 19,
      "outputs": [
        {
          "output_type": "stream",
          "name": "stdout",
          "text": [
            "1.0\n"
          ]
        }
      ]
    },
    {
      "cell_type": "code",
      "source": [],
      "metadata": {
        "id": "0ROYM73aHv4C"
      },
      "execution_count": null,
      "outputs": []
    },
    {
      "cell_type": "code",
      "source": [
        "loss_f=nn.CrossEntropyLoss()  # The target data **should not** be one-hot encoded\n",
        "\n",
        "optimizer=optim.SGD(our_model.parameters(),lr=1e-2)\n",
        "\n",
        "train_loss_l=[]\n",
        "test_loss_l=[]\n",
        "\n",
        "for epoch in range (20):\n",
        "\n",
        "      train_loss=0\n",
        "      test_loss=0\n",
        "\n",
        "      c_train=0\n",
        "      c_test=0\n",
        "      t_train=0\n",
        "      t_test=0\n",
        "\n",
        "      our_model.train()\n",
        "\n",
        "      for x_batch , y_batch in our_train_loader:\n",
        "\n",
        "          x_batch=x_batch.to(device).float().squeeze()\n",
        "          y_batch=y_batch.to(device).long().squeeze()\n",
        "\n",
        "\n",
        "\n",
        "          outputs=our_model(x_batch)\n",
        "\n",
        "          loss=loss_f(outputs,y_batch)\n",
        "\n",
        "          optimizer.zero_grad()\n",
        "\n",
        "          loss.backward()\n",
        "\n",
        "          optimizer.step()\n",
        "\n",
        "          train_loss+=loss.item()\n",
        "\n",
        "          c_train+=sum(torch.argmax(outputs,dim=1)==y_batch).item()\n",
        "          t_train+=y_batch.shape[0]\n",
        "\n",
        "      train_accuracy=c_train/t_train  #our_accuracy (y_batch,outputs)\n",
        "\n",
        "      train_loss/=len(our_train_loader)\n",
        "\n",
        "      train_loss_l.append(train_loss)\n",
        "      our_model.eval()\n",
        "      with torch.inference_mode():\n",
        "\n",
        "            for x_batch_t , y_batch_t in our_test_loader:\n",
        "\n",
        "                x_batch_t=x_batch_t.to(device).float().squeeze()\n",
        "                y_batch_t=y_batch_t.to(device).long().squeeze()\n",
        "\n",
        "                outputs_t=our_model(x_batch_t)\n",
        "\n",
        "                loss_t=loss_f(outputs_t,y_batch_t)\n",
        "\n",
        "                test_loss+=loss_t.item()\n",
        "\n",
        "                c_test+=sum(torch.argmax(outputs_t,dim=1)==y_batch_t).item()\n",
        "\n",
        "                t_test+=y_batch_t.shape[0]\n",
        "\n",
        "\n",
        "            test_loss/=len(our_test_loader)\n",
        "\n",
        "            test_accuracy=c_test/t_test    #our_accuracy (y_batch_t,outputs_t)\n",
        "\n",
        "            test_loss_l.append(test_loss)\n",
        "\n",
        "      print(f\"at epoch = {epoch} >> train loss = {train_loss} and train accuracy = {train_accuracy} , test loss = {test_loss} and test accuracy = {test_accuracy}\")"
      ],
      "metadata": {
        "colab": {
          "base_uri": "https://localhost:8080/"
        },
        "id": "smwQ61DyC4WH",
        "outputId": "d19e3511-d4c2-4580-f56d-98e7af84427e"
      },
      "execution_count": 108,
      "outputs": [
        {
          "output_type": "stream",
          "name": "stdout",
          "text": [
            "at epoch = 0 >> train loss = 2.2639678230285645 and train accuracy = 0.16225 , test loss = 2.1987405866384506 and test accuracy = 0.261\n",
            "at epoch = 1 >> train loss = 2.134129648208618 and train accuracy = 0.34275 , test loss = 2.0534781739115715 and test accuracy = 0.425\n",
            "at epoch = 2 >> train loss = 1.972663091659546 and train accuracy = 0.4665 , test loss = 1.8757136575877666 and test accuracy = 0.554\n",
            "at epoch = 3 >> train loss = 1.7911044759750365 and train accuracy = 0.55425 , test loss = 1.6899843253195286 and test accuracy = 0.601\n",
            "at epoch = 4 >> train loss = 1.6130007934570312 and train accuracy = 0.6035 , test loss = 1.5174251720309258 and test accuracy = 0.646\n",
            "at epoch = 5 >> train loss = 1.4543968362808228 and train accuracy = 0.6475 , test loss = 1.3701989576220512 and test accuracy = 0.691\n",
            "at epoch = 6 >> train loss = 1.3215448617935182 and train accuracy = 0.68175 , test loss = 1.2451165691018105 and test accuracy = 0.713\n",
            "at epoch = 7 >> train loss = 1.2103169527053832 and train accuracy = 0.7095 , test loss = 1.1421420276165009 and test accuracy = 0.725\n",
            "at epoch = 8 >> train loss = 1.1174584360122681 and train accuracy = 0.729 , test loss = 1.054953534156084 and test accuracy = 0.754\n",
            "at epoch = 9 >> train loss = 1.0373802618980408 and train accuracy = 0.75 , test loss = 0.978567672893405 and test accuracy = 0.771\n",
            "at epoch = 10 >> train loss = 0.967592990398407 and train accuracy = 0.769 , test loss = 0.9131585285067558 and test accuracy = 0.787\n",
            "at epoch = 11 >> train loss = 0.9056329889297485 and train accuracy = 0.783 , test loss = 0.8544539362192154 and test accuracy = 0.806\n",
            "at epoch = 12 >> train loss = 0.8497430028915405 and train accuracy = 0.803 , test loss = 0.8011675421148539 and test accuracy = 0.823\n",
            "at epoch = 13 >> train loss = 0.7991106686592102 and train accuracy = 0.817 , test loss = 0.7509325630962849 and test accuracy = 0.838\n",
            "at epoch = 14 >> train loss = 0.752357578754425 and train accuracy = 0.8345 , test loss = 0.707769775763154 and test accuracy = 0.848\n",
            "at epoch = 15 >> train loss = 0.7102468695640564 and train accuracy = 0.848 , test loss = 0.6695040492340922 and test accuracy = 0.852\n",
            "at epoch = 16 >> train loss = 0.6715660011768341 and train accuracy = 0.8525 , test loss = 0.6347107458859682 and test accuracy = 0.864\n",
            "at epoch = 17 >> train loss = 0.6377560024261475 and train accuracy = 0.8625 , test loss = 0.6050271680578589 and test accuracy = 0.87\n",
            "at epoch = 18 >> train loss = 0.6072039048671722 and train accuracy = 0.86825 , test loss = 0.5771381855010986 and test accuracy = 0.877\n",
            "at epoch = 19 >> train loss = 0.5789315643310546 and train accuracy = 0.872 , test loss = 0.5544061232358217 and test accuracy = 0.883\n"
          ]
        }
      ]
    },
    {
      "cell_type": "code",
      "source": [],
      "metadata": {
        "id": "giGPIFcPEDnW"
      },
      "execution_count": null,
      "outputs": []
    },
    {
      "cell_type": "code",
      "source": [
        "our_model.eval()\n",
        "with torch.inference_mode():\n",
        "\n",
        "        num_images = 10\n",
        "        rows = int(np.ceil(num_images / 5))\n",
        "        cols = 5\n",
        "\n",
        "        fig, axes = plt.subplots(rows, cols, figsize=(15, 3 * rows))\n",
        "        axes = axes.flatten()\n",
        "\n",
        "        for i in range(num_images):\n",
        "            p_p=our_model(torch.tensor(x_test[i]).float())\n",
        "            t = y_test[i]\n",
        "            p = torch.argmax(p_p)\n",
        "\n",
        "            axes[i].imshow(x_test[i].reshape(28, 28), cmap='gray')\n",
        "            axes[i].set_title(f\"GT={t}, Pred={p}\")\n",
        "            axes[i].axis('off')\n",
        "\n",
        "        plt.tight_layout()\n",
        "        plt.show()\n",
        "\n"
      ],
      "metadata": {
        "colab": {
          "base_uri": "https://localhost:8080/",
          "height": 581
        },
        "id": "M0Gvn0faEDps",
        "outputId": "95627d94-af93-4e45-8fb4-fc3b31c74625"
      },
      "execution_count": 125,
      "outputs": [
        {
          "output_type": "display_data",
          "data": {
            "text/plain": [
              "<Figure size 1500x600 with 10 Axes>"
            ],
            "image/png": "[encoded data removed]"
          },
          "metadata": {}
        }
      ]
    },
    {
      "cell_type": "code",
      "source": [
        "plt.plot(train_loss_l,label=\"Train loss\")\n",
        "plt.plot(test_loss_l,label=\"Test loss\")\n",
        "plt.title(\"Train and Test loss\")\n",
        "plt.legend()\n",
        "plt.show()"
      ],
      "metadata": {
        "colab": {
          "base_uri": "https://localhost:8080/",
          "height": 452
        },
        "id": "EnrlMhq7scY1",
        "outputId": "708995ce-4c53-4e6f-c294-81257a236995"
      },
      "execution_count": 126,
      "outputs": [
        {
          "output_type": "display_data",
          "data": {
            "text/plain": [
              "<Figure size 640x480 with 1 Axes>"
            ],
            "image/png": "[encoded data removed]"
          },
          "metadata": {}
        }
      ]
    },
    {
      "cell_type": "code",
      "source": [],
      "metadata": {
        "id": "BT-diFYZwRCu"
      },
      "execution_count": null,
      "outputs": []
    }
  ]
}