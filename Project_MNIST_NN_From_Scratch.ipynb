{
  "cells": [
    {
      "cell_type": "code",
      "execution_count": null,
      "id": "7373ba7e-5fe7-49c3-9429-03045684507d",
      "metadata": {
        "id": "7373ba7e-5fe7-49c3-9429-03045684507d"
      },
      "outputs": [],
      "source": [
        "import numpy as np\n",
        "import pandas as pd\n",
        "import matplotlib.pyplot as plt\n",
        "\n",
        "from sklearn.preprocessing import OneHotEncoder\n",
        "from sklearn.model_selection import train_test_split\n"
      ]
    },
    {
      "cell_type": "code",
      "execution_count": null,
      "id": "2a90da1c-bf24-4836-a292-40eef064095c",
      "metadata": {
        "id": "2a90da1c-bf24-4836-a292-40eef064095c"
      },
      "outputs": [],
      "source": [
        "def our_cross_entropy (t,p):\n",
        "    return np.mean(-np.sum(t*np.log(p+0.00000005),axis=1,keepdims=True))"
      ]
    },
    {
      "cell_type": "code",
      "execution_count": null,
      "id": "527c50bf-02f9-4bf3-ab67-4eac7b5704ae",
      "metadata": {
        "id": "527c50bf-02f9-4bf3-ab67-4eac7b5704ae",
        "outputId": "66427531-4556-4dfb-ad65-2a91fd695761"
      },
      "outputs": [
        {
          "name": "stdout",
          "output_type": "stream",
          "text": [
            "1.0121845963025422\n",
            "()\n"
          ]
        }
      ],
      "source": [
        "t=np.array([[0,1],\n",
        "   [1,0],\n",
        "   [0,1]])\n",
        "\n",
        "p=np.array([[0.7,.3],\n",
        "   [.8,.2],\n",
        "   [.8,.2]])\n",
        "print(our_cross_entropy (t,p))\n",
        "print(our_cross_entropy (t,p).shape)"
      ]
    },
    {
      "cell_type": "code",
      "execution_count": null,
      "id": "a5ab13c1-4a06-46f9-b71e-60da5350b917",
      "metadata": {
        "id": "a5ab13c1-4a06-46f9-b71e-60da5350b917"
      },
      "outputs": [],
      "source": [
        "def our_soft_max(x):\n",
        "    x=x-np.max(x,axis=1,keepdims=True)\n",
        "    upper=np.exp(x)\n",
        "    lower=np.sum(upper,axis=1,keepdims=True)\n",
        "    return upper/lower"
      ]
    },
    {
      "cell_type": "code",
      "execution_count": null,
      "id": "35a11740-3ca9-4731-b978-cf4cff710ee2",
      "metadata": {
        "id": "35a11740-3ca9-4731-b978-cf4cff710ee2",
        "outputId": "bd12602b-b69d-43a8-dc1c-30092ea79dbb"
      },
      "outputs": [
        {
          "name": "stdout",
          "output_type": "stream",
          "text": [
            "[[0.59868766 0.40131234]\n",
            " [0.64565631 0.35434369]\n",
            " [0.64565631 0.35434369]]\n"
          ]
        }
      ],
      "source": [
        "x=[[0.7,.3],\n",
        "   [.8,.2],\n",
        "   [.8,.2]]\n",
        "\n",
        "print(our_soft_max(x))"
      ]
    },
    {
      "cell_type": "code",
      "execution_count": null,
      "id": "040f25d0-e2dc-4660-9934-33d50c019194",
      "metadata": {
        "id": "040f25d0-e2dc-4660-9934-33d50c019194"
      },
      "outputs": [],
      "source": [
        "def our_tanh(x):\n",
        "    upper=np.exp(x)-np.exp(-x)\n",
        "    lower=np.exp(x)+np.exp(-x)\n",
        "    return upper/lower"
      ]
    },
    {
      "cell_type": "code",
      "execution_count": null,
      "id": "10275c40-1a97-459c-8a14-3ab7572a32ba",
      "metadata": {
        "id": "10275c40-1a97-459c-8a14-3ab7572a32ba",
        "outputId": "52a358ce-a39d-405a-926d-42c830fa39fa"
      },
      "outputs": [
        {
          "name": "stdout",
          "output_type": "stream",
          "text": [
            "[[0.60436778 0.29131261]\n",
            " [0.66403677 0.19737532]\n",
            " [0.66403677 0.19737532]]\n"
          ]
        }
      ],
      "source": [
        "x=np.array([[0.7,.3],\n",
        "   [.8,.2],\n",
        "   [.8,.2]])\n",
        "\n",
        "print(our_tanh(x))"
      ]
    },
    {
      "cell_type": "code",
      "execution_count": null,
      "id": "4a5a89fe-dd79-414b-a5b9-115695c95bc7",
      "metadata": {
        "id": "4a5a89fe-dd79-414b-a5b9-115695c95bc7",
        "outputId": "54ba00ed-fdce-49c2-f3da-582848ec3e70"
      },
      "outputs": [
        {
          "data": {
            "text/plain": [
              "array([[0.60436778, 0.29131261],\n",
              "       [0.66403677, 0.19737532],\n",
              "       [0.66403677, 0.19737532]])"
            ]
          },
          "execution_count": 8,
          "metadata": {},
          "output_type": "execute_result"
        }
      ],
      "source": [
        "np.tanh(x)"
      ]
    },
    {
      "cell_type": "code",
      "execution_count": null,
      "id": "aea016a9-7571-40f3-9964-f26f2ffce3ed",
      "metadata": {
        "id": "aea016a9-7571-40f3-9964-f26f2ffce3ed"
      },
      "outputs": [],
      "source": [
        "def our_dtanh(x):\n",
        "    return 1-x**2"
      ]
    },
    {
      "cell_type": "code",
      "execution_count": null,
      "id": "1c8c8aac-36c0-4568-94c4-99e287297af5",
      "metadata": {
        "id": "1c8c8aac-36c0-4568-94c4-99e287297af5",
        "outputId": "852d3a80-309a-4d2e-ed6c-6533a5b4db05"
      },
      "outputs": [
        {
          "name": "stdout",
          "output_type": "stream",
          "text": [
            "[[0.51 0.91]\n",
            " [0.36 0.96]\n",
            " [0.36 0.96]]\n"
          ]
        }
      ],
      "source": [
        "x=np.array([[0.7,.3],\n",
        "   [.8,.2],\n",
        "   [.8,.2]])\n",
        "\n",
        "print(our_dtanh(x))"
      ]
    },
    {
      "cell_type": "code",
      "execution_count": null,
      "id": "ac5d7434-d29e-4d36-b631-9b90959f9dd8",
      "metadata": {
        "id": "ac5d7434-d29e-4d36-b631-9b90959f9dd8"
      },
      "outputs": [],
      "source": [
        "np.random.seed(0)"
      ]
    },
    {
      "cell_type": "code",
      "execution_count": null,
      "id": "ddb185bf-039f-46a6-9287-98acd5cb2170",
      "metadata": {
        "id": "ddb185bf-039f-46a6-9287-98acd5cb2170"
      },
      "outputs": [],
      "source": [
        "def our_initial ():\n",
        "\n",
        "    w1 = np.random.randn(784,20)\n",
        "    b1 = np.zeros((1, 20))\n",
        "\n",
        "    w2 = np.random.randn(20,15)\n",
        "    b2 = np.zeros((1, 15))\n",
        "\n",
        "    w3 = np.random.randn(15,10)\n",
        "    b3 = np.zeros((1, 10))\n",
        "\n",
        "    return w1,b1,w2,b2,w3,b3"
      ]
    },
    {
      "cell_type": "code",
      "execution_count": null,
      "id": "a07d3793-0b97-4574-8b2b-75314e62a75e",
      "metadata": {
        "id": "a07d3793-0b97-4574-8b2b-75314e62a75e",
        "outputId": "59a8bce3-1d91-4758-8be3-855b3b446aec"
      },
      "outputs": [
        {
          "data": {
            "text/plain": [
              "array([[ 1.76405235,  0.40015721,  0.97873798, ..., -0.20515826,\n",
              "         0.3130677 , -0.85409574],\n",
              "       [-2.55298982,  0.6536186 ,  0.8644362 , ...,  1.20237985,\n",
              "        -0.38732682, -0.30230275],\n",
              "       [-1.04855297, -1.42001794, -1.70627019, ...,  0.3024719 ,\n",
              "        -0.63432209, -0.36274117],\n",
              "       ...,\n",
              "       [-0.57230368,  0.19457791,  0.49349517, ..., -1.89576424,\n",
              "        -0.54624122, -0.32782539],\n",
              "       [ 0.41814034, -0.80276784, -0.12488406, ...,  1.11501463,\n",
              "         0.7628927 ,  0.71863949],\n",
              "       [ 2.06086561, -1.14270876, -0.67209559, ..., -0.64715769,\n",
              "        -0.85307969,  0.25300796]])"
            ]
          },
          "execution_count": 13,
          "metadata": {},
          "output_type": "execute_result"
        }
      ],
      "source": [
        "w1,b1,w2,b2,w3,b3= our_initial ()\n",
        "w1"
      ]
    },
    {
      "cell_type": "code",
      "execution_count": null,
      "id": "464a62a9-09a7-47cc-8ea8-d19a2569c6f8",
      "metadata": {
        "id": "464a62a9-09a7-47cc-8ea8-d19a2569c6f8"
      },
      "outputs": [],
      "source": [
        "def our_forward (x,w1,b1,w2,b2,w3,b3):\n",
        "    n1=x@w1+b1\n",
        "    o1=our_tanh(n1)\n",
        "\n",
        "    n2=o1@w2+b2\n",
        "    o2=our_tanh(n2)\n",
        "\n",
        "    n3=o2@w3+b3\n",
        "    o3=our_soft_max(n3)\n",
        "\n",
        "    return n1,o1,n2,o2,n3,o3"
      ]
    },
    {
      "cell_type": "code",
      "execution_count": null,
      "id": "8c759083-963f-4893-aae3-bcc7a6db02ce",
      "metadata": {
        "id": "8c759083-963f-4893-aae3-bcc7a6db02ce"
      },
      "outputs": [],
      "source": [
        "def our_backprob(x,y,w1,b1,w2,b2,w3,b3,n1,o1,n2,o2,n3,o3):\n",
        "\n",
        "    de_dn3= o3 - y\n",
        "\n",
        "    de_do2= de_dn3 @ w3.T\n",
        "\n",
        "    de_dn2= de_do2 * our_dtanh(o2)\n",
        "\n",
        "    de_do1= de_dn2 @ w2.T\n",
        "\n",
        "    de_dn1= de_do1 * our_dtanh(o1)\n",
        "\n",
        "\n",
        "    de_dw3= o2.T @ de_dn3\n",
        "\n",
        "    de_db3= np.sum(de_dn3,axis=0,keepdims=True)\n",
        "\n",
        "    de_dw2= o1.T @ de_dn2\n",
        "\n",
        "    de_db2= np.sum(de_dn2,axis=0,keepdims=True)\n",
        "\n",
        "    de_dw1= x.T @ de_dn1\n",
        "\n",
        "    de_db1= np.sum(de_dn1,axis=0,keepdims=True)\n",
        "\n",
        "\n",
        "    return  de_dw1,de_db1,de_dw2,de_db2,de_dw3,de_db3"
      ]
    },
    {
      "cell_type": "code",
      "execution_count": null,
      "id": "b7e248d3-c8d3-4f91-bc26-ae51b5a6458a",
      "metadata": {
        "id": "b7e248d3-c8d3-4f91-bc26-ae51b5a6458a"
      },
      "outputs": [],
      "source": [
        "def our_update_weights(lr,w1,b1,w2,b2,w3,b3,de_dw1,de_db1,de_dw2,de_db2,de_dw3,de_db3):\n",
        "\n",
        "    w1-=lr*de_dw1\n",
        "\n",
        "    b1-=lr*de_db1\n",
        "\n",
        "    w2-=lr*de_dw2\n",
        "\n",
        "    b2-=lr*de_db2\n",
        "\n",
        "    w3-=lr*de_dw3\n",
        "\n",
        "    b3-=lr*de_db3\n",
        "\n",
        "    return w1,b1,w2,b2,w3,b3"
      ]
    },
    {
      "cell_type": "code",
      "execution_count": null,
      "id": "6dab4a52-b72b-4b5a-8ab3-f775f4b8004b",
      "metadata": {
        "id": "6dab4a52-b72b-4b5a-8ab3-f775f4b8004b"
      },
      "outputs": [],
      "source": []
    },
    {
      "cell_type": "code",
      "execution_count": null,
      "id": "3984bff0-01b5-4723-9b58-f1b4324b4b0c",
      "metadata": {
        "id": "3984bff0-01b5-4723-9b58-f1b4324b4b0c"
      },
      "outputs": [],
      "source": [
        "def our_accuracy (t,p):\n",
        "    predicted_y = np.argmax(p,axis=1)\n",
        "\n",
        "    true_t= np.argmax(t,axis=1)    #because one hot encoding\n",
        "\n",
        "    true_v=np.sum(true_t==predicted_y)\n",
        "\n",
        "    total_v= predicted_y.shape[0]\n",
        "\n",
        "    our_accuracy_v = true_v / total_v  #accuracy_score(true_t,predicted_y)   #\n",
        "\n",
        "    return our_accuracy_v"
      ]
    },
    {
      "cell_type": "code",
      "execution_count": null,
      "id": "17eb4ebf-72f9-479c-ba8f-008bce519877",
      "metadata": {
        "id": "17eb4ebf-72f9-479c-ba8f-008bce519877",
        "outputId": "673d0bb3-7264-462e-ba2b-a4c3ddacddc6"
      },
      "outputs": [
        {
          "name": "stdout",
          "output_type": "stream",
          "text": [
            "0.6666666666666666\n"
          ]
        }
      ],
      "source": [
        "t=np.array([[1,0,0],[0,1,0],[0,0,1]])\n",
        "p=np.array([[.8,.1,.1],[.8,.1,.1],[.1,.1,.8]])\n",
        "print(our_accuracy (t,p))"
      ]
    },
    {
      "cell_type": "code",
      "execution_count": null,
      "id": "e55b68ac-37a8-43de-b391-9769f78888ac",
      "metadata": {
        "id": "e55b68ac-37a8-43de-b391-9769f78888ac"
      },
      "outputs": [],
      "source": []
    },
    {
      "cell_type": "code",
      "execution_count": null,
      "id": "58da684b-373e-49c0-beed-096a92980eff",
      "metadata": {
        "id": "58da684b-373e-49c0-beed-096a92980eff"
      },
      "outputs": [],
      "source": [
        "def our_evaluation (x_eval,y_eval,w1,b1,w2,b2,w3,b3) :\n",
        "\n",
        "    n1,o1,n2,o2,n3,o3 = our_forward(x_eval,w1,b1,w2,b2,w3,b3)\n",
        "\n",
        "    loss_v = our_cross_entropy(y_eval,o3)\n",
        "\n",
        "    our_accuracy_v = our_accuracy(y_eval,o3)\n",
        "\n",
        "    return loss_v ,our_accuracy_v\n",
        ""
      ]
    },
    {
      "cell_type": "code",
      "execution_count": null,
      "id": "9d92e3b3-ee4c-4c2e-be72-7c5c60f29a52",
      "metadata": {
        "id": "9d92e3b3-ee4c-4c2e-be72-7c5c60f29a52"
      },
      "outputs": [],
      "source": [
        "def our_batch_gradient_decent(x_train,y_train,x_test,y_test,batch_size=32,lr=1e-2,check_v=0.00001,max_epoch=20):\n",
        "\n",
        "    w1,b1,w2,b2,w3,b3=our_initial ()\n",
        "\n",
        "    n_batchs= len(x_train) // batch_size\n",
        "\n",
        "    train_loss_l=[]\n",
        "    test_loss_l=[]\n",
        "\n",
        "    for epoch in range(max_epoch):\n",
        "\n",
        "        for batch in range(n_batchs):\n",
        "\n",
        "            start= batch * batch_size\n",
        "            end=(batch+1) * batch_size\n",
        "\n",
        "            if batch+1 !=n_batchs:\n",
        "\n",
        "                x_batch=x_train[start:end]\n",
        "                y_batch=y_train[start:end]\n",
        "\n",
        "            else:\n",
        "\n",
        "                x_batch=x_train[start: ]\n",
        "                y_batch=y_train[start: ]\n",
        "\n",
        "            n1,o1,n2,o2,n3,o3 = our_forward(x_batch,w1,b1,w2,b2,w3,b3)\n",
        "\n",
        "            de_dw1,de_db1,de_dw2,de_db2,de_dw3,de_db3 = our_backprob(x_batch,y_batch,w1,b1,w2,b2,w3,b3,n1,o1,n2,o2,n3,o3)\n",
        "\n",
        "            w1,b1,w2,b2,w3,b3 = our_update_weights(lr,w1,b1,w2,b2,w3,b3,de_dw1,de_db1,de_dw2,de_db2,de_dw3,de_db3)\n",
        "\n",
        "\n",
        "        train_loss,our_train_accuracy = our_evaluation (x_train,y_train,w1,b1,w2,b2,w3,b3)\n",
        "\n",
        "        train_loss_l.append(train_loss)\n",
        "\n",
        "        test_loss,our_test_accuracy = our_evaluation (x_test,y_test,w1,b1,w2,b2,w3,b3)\n",
        "\n",
        "        test_loss_l.append(test_loss)\n",
        "\n",
        "\n",
        "        print(f\"at epoch = {epoch} , train loss = {train_loss}, test loss = {test_loss} ,train accuracy = {our_train_accuracy} , test accuracy = {our_test_accuracy}\")\n",
        "\n",
        "\n",
        "    return w1,b1,w2,b2,w3,b3,train_loss_l,test_loss_l"
      ]
    },
    {
      "cell_type": "code",
      "execution_count": null,
      "id": "fb2789c3-9665-40a2-9153-8aaa45a3e5f5",
      "metadata": {
        "id": "fb2789c3-9665-40a2-9153-8aaa45a3e5f5"
      },
      "outputs": [],
      "source": [
        "def our_prep_data(x_dir,y_dir):\n",
        "\n",
        "    x=np.load(x_dir)\n",
        "    y=np.load(y_dir)\n",
        "\n",
        "    x=x / 255.0\n",
        "\n",
        "    ohe=OneHotEncoder(sparse=False)\n",
        "\n",
        "    y_ohe=ohe.fit_transform(y.reshape(-1,1))\n",
        "\n",
        "    x_train,x_test,y_train,y_test=train_test_split(x,y_ohe,test_size=0.2,random_state=42)\n",
        "\n",
        "    return x_train,x_test,y_train,y_test"
      ]
    },
    {
      "cell_type": "code",
      "execution_count": null,
      "id": "da4a8c16-1312-4c99-8344-b0af67dbd860",
      "metadata": {
        "id": "da4a8c16-1312-4c99-8344-b0af67dbd860",
        "outputId": "dbf60cdc-7205-4488-c222-45b4b689d215"
      },
      "outputs": [
        {
          "name": "stderr",
          "output_type": "stream",
          "text": [
            "C:\\Users\\HP\\anaconda3\\Lib\\site-packages\\sklearn\\preprocessing\\_encoders.py:972: FutureWarning: `sparse` was renamed to `sparse_output` in version 1.2 and will be removed in 1.4. `sparse_output` is ignored unless you leave `sparse` to its default value.\n",
            "  warnings.warn(\n"
          ]
        },
        {
          "name": "stdout",
          "output_type": "stream",
          "text": [
            "at epoch = 0 , train loss = 1.5155286445295257, test loss = 1.663513409106682 ,train accuracy = 0.48525 , test accuracy = 0.43\n",
            "at epoch = 1 , train loss = 1.1949075656772636, test loss = 1.315498767936373 ,train accuracy = 0.6 , test accuracy = 0.533\n",
            "at epoch = 2 , train loss = 0.9860204437597846, test loss = 1.1367266507775389 ,train accuracy = 0.67775 , test accuracy = 0.607\n",
            "at epoch = 3 , train loss = 0.8810799368442777, test loss = 1.068325096820697 ,train accuracy = 0.71 , test accuracy = 0.642\n",
            "at epoch = 4 , train loss = 0.7861880993119402, test loss = 0.9733853650279083 ,train accuracy = 0.74375 , test accuracy = 0.697\n",
            "at epoch = 5 , train loss = 0.7191860620439555, test loss = 0.9338061159420643 ,train accuracy = 0.77375 , test accuracy = 0.706\n",
            "at epoch = 6 , train loss = 0.6681399566242272, test loss = 0.8887579410995168 ,train accuracy = 0.78725 , test accuracy = 0.723\n",
            "at epoch = 7 , train loss = 0.610170766878526, test loss = 0.8624767090981363 ,train accuracy = 0.807 , test accuracy = 0.737\n",
            "at epoch = 8 , train loss = 0.5790490512453752, test loss = 0.8176699456039271 ,train accuracy = 0.816 , test accuracy = 0.751\n",
            "at epoch = 9 , train loss = 0.5493956689415096, test loss = 0.8151403121294493 ,train accuracy = 0.82575 , test accuracy = 0.761\n",
            "at epoch = 10 , train loss = 0.5068712703878634, test loss = 0.8011586283966335 ,train accuracy = 0.83875 , test accuracy = 0.772\n",
            "at epoch = 11 , train loss = 0.4782148913746188, test loss = 0.7865197159666696 ,train accuracy = 0.84875 , test accuracy = 0.769\n",
            "at epoch = 12 , train loss = 0.4571536119084974, test loss = 0.7743896053397242 ,train accuracy = 0.855 , test accuracy = 0.77\n",
            "at epoch = 13 , train loss = 0.42569205118712017, test loss = 0.7539717493110476 ,train accuracy = 0.86625 , test accuracy = 0.776\n",
            "at epoch = 14 , train loss = 0.41449524571703966, test loss = 0.7503928297672903 ,train accuracy = 0.86975 , test accuracy = 0.779\n",
            "at epoch = 15 , train loss = 0.3924437783277907, test loss = 0.7562941308988854 ,train accuracy = 0.881 , test accuracy = 0.78\n",
            "at epoch = 16 , train loss = 0.36583008050743454, test loss = 0.7430877713883469 ,train accuracy = 0.892 , test accuracy = 0.789\n",
            "at epoch = 17 , train loss = 0.38936171732090724, test loss = 0.7600199618082367 ,train accuracy = 0.88325 , test accuracy = 0.784\n",
            "at epoch = 18 , train loss = 0.36390517785182425, test loss = 0.7618099362400629 ,train accuracy = 0.8895 , test accuracy = 0.792\n",
            "at epoch = 19 , train loss = 0.3356037681221303, test loss = 0.7475990874869844 ,train accuracy = 0.89875 , test accuracy = 0.805\n"
          ]
        }
      ],
      "source": [
        "x_train,x_test,y_train,y_test = our_prep_data(x_dir=\"D:\\Courses\\ML Dr Mostafa\\Projects_last\\mnist-sample\\X.npy\",y_dir=\"D:\\Courses\\ML Dr Mostafa\\Projects_last\\mnist-sample\\y.npy\")\n",
        "\n",
        "w1,b1,w2,b2,w3,b3,train_loss_l,test_loss_l = our_batch_gradient_decent(x_train,y_train,x_test,y_test)"
      ]
    },
    {
      "cell_type": "code",
      "execution_count": null,
      "id": "59a1ddb7-997e-4cc4-ae8f-a1bb5afba86d",
      "metadata": {
        "id": "59a1ddb7-997e-4cc4-ae8f-a1bb5afba86d",
        "outputId": "8412175f-84b5-4db7-c02f-5194cbdf89e2"
      },
      "outputs": [
        {
          "data": {
            "image/png": "[encoded data removed]",
            "text/plain": [
              "<Figure size 640x480 with 1 Axes>"
            ]
          },
          "metadata": {},
          "output_type": "display_data"
        }
      ],
      "source": [
        "def our_plot_loss(train_loss_l,test_loss_l):\n",
        "    plt.plot(train_loss_l,label=\"train\")\n",
        "    plt.plot(test_loss_l,label=\"test\")\n",
        "    plt.legend()\n",
        "    plt.title(\"train and test loss\")\n",
        "    plt.show()\n",
        "\n",
        "our_plot_loss(train_loss_l,test_loss_l)"
      ]
    },
    {
      "cell_type": "code",
      "execution_count": null,
      "id": "6d1773f3-a31c-4c28-8cd0-fb7ae113e395",
      "metadata": {
        "id": "6d1773f3-a31c-4c28-8cd0-fb7ae113e395",
        "outputId": "ed2b6edc-7e4d-4d6e-f965-69a0d8373ae8"
      },
      "outputs": [
        {
          "data": {
            "image/png": "[encoded data removed]",
            "text/plain": [
              "<Figure size 1500x600 with 10 Axes>"
            ]
          },
          "metadata": {},
          "output_type": "display_data"
        }
      ],
      "source": [
        "def our_plot(x, y, w1, b1, w2, b2, w3, b3):\n",
        "    num_images = 10\n",
        "    rows = int(np.ceil(num_images / 5))\n",
        "    cols = 5\n",
        "\n",
        "    fig, axes = plt.subplots(rows, cols, figsize=(15, 3 * rows))\n",
        "    axes = axes.flatten()\n",
        "\n",
        "    for i in range(num_images):\n",
        "        n1, o1, n2, o2, n3, o3 = our_forward(x[i], w1, b1, w2, b2, w3, b3)\n",
        "        t = np.argmax(y[i])\n",
        "        p = np.argmax(o3)\n",
        "\n",
        "        axes[i].imshow(x[i].reshape(28, 28), cmap='gray')\n",
        "        axes[i].set_title(f\"GT={t}, Pred={p}\")\n",
        "        axes[i].axis('off')\n",
        "\n",
        "    plt.tight_layout()\n",
        "    plt.show()\n",
        "\n",
        "our_plot(x_test, y_test, w1, b1, w2, b2, w3, b3)"
      ]
    },
    {
      "cell_type": "code",
      "execution_count": null,
      "id": "c0aeab1d-bdb8-40ab-8fce-0f946d575230",
      "metadata": {
        "id": "c0aeab1d-bdb8-40ab-8fce-0f946d575230"
      },
      "outputs": [],
      "source": []
    }
  ],
  "metadata": {
    "kernelspec": {
      "display_name": "Python 3 (ipykernel)",
      "language": "python",
      "name": "python3"
    },
    "language_info": {
      "codemirror_mode": {
        "name": "ipython",
        "version": 3
      },
      "file_extension": ".py",
      "mimetype": "text/x-python",
      "name": "python",
      "nbconvert_exporter": "python",
      "pygments_lexer": "ipython3",
      "version": "3.11.5"
    },
    "colab": {
      "provenance": []
    }
  },
  "nbformat": 4,
  "nbformat_minor": 5
}